{
  "nbformat": 4,
  "nbformat_minor": 0,
  "metadata": {
    "colab": {
      "name": "Day3_Session1_Assignments.ipynb",
      "provenance": [],
      "collapsed_sections": [],
      "include_colab_link": true
    },
    "kernelspec": {
      "name": "python3",
      "display_name": "Python 3"
    }
  },
  "cells": [
    {
      "cell_type": "markdown",
      "metadata": {
        "id": "view-in-github",
        "colab_type": "text"
      },
      "source": [
        "<a href=\"https://colab.research.google.com/github/alvas-education-foundation/nishanthvr/blob/master/Day3_Session1_exercise.ipynb\" target=\"_parent\"><img src=\"https://colab.research.google.com/assets/colab-badge.svg\" alt=\"Open In Colab\"/></a>"
      ]
    },
    {
      "cell_type": "code",
      "metadata": {
        "id": "hSOzk2cT2kh8",
        "colab_type": "code",
        "colab": {
          "base_uri": "https://localhost:8080/",
          "height": 55
        },
        "outputId": "0fb9ffac-a1f2-4a9a-de2a-8e73a48d4ebf"
      },
      "source": [
        "#Write a Python program to find numbers between 100 and 400 (both included) which are divisible either by 5 or 7. The numbers obtained should be printed in a comma-separated sequence\n",
        "\n",
        "print([i for i in range(100,401) if i%5 == 0 or i%7 == 0])"
      ],
      "execution_count": 1,
      "outputs": [
        {
          "output_type": "stream",
          "text": [
            "[100, 105, 110, 112, 115, 119, 120, 125, 126, 130, 133, 135, 140, 145, 147, 150, 154, 155, 160, 161, 165, 168, 170, 175, 180, 182, 185, 189, 190, 195, 196, 200, 203, 205, 210, 215, 217, 220, 224, 225, 230, 231, 235, 238, 240, 245, 250, 252, 255, 259, 260, 265, 266, 270, 273, 275, 280, 285, 287, 290, 294, 295, 300, 301, 305, 308, 310, 315, 320, 322, 325, 329, 330, 335, 336, 340, 343, 345, 350, 355, 357, 360, 364, 365, 370, 371, 375, 378, 380, 385, 390, 392, 395, 399, 400]\n"
          ],
          "name": "stdout"
        }
      ]
    },
    {
      "cell_type": "code",
      "metadata": {
        "id": "XjfPt7ra6Ayf",
        "colab_type": "code",
        "colab": {
          "base_uri": "https://localhost:8080/",
          "height": 54
        },
        "outputId": "0d52be96-7727-499c-c5ed-5d40b18fff03"
      },
      "source": [
        "#Write a Python program to find  prime numbers between 200 and 600 (both included). The numbers obtained should be printed in a comma-separated sequence\n",
        "\n",
        "print([i for i in range(200,601) if all(i%j != 0 for j in range(2,i//2+1))])\n"
      ],
      "execution_count": null,
      "outputs": [
        {
          "output_type": "stream",
          "text": [
            "[211, 223, 227, 229, 233, 239, 241, 251, 257, 263, 269, 271, 277, 281, 283, 293, 307, 311, 313, 317, 331, 337, 347, 349, 353, 359, 367, 373, 379, 383, 389, 397, 401, 409, 419, 421, 431, 433, 439, 443, 449, 457, 461, 463, 467, 479, 487, 491, 499, 503, 509, 521, 523, 541, 547, 557, 563, 569, 571, 577, 587, 593, 599]\n"
          ],
          "name": "stdout"
        }
      ]
    },
    {
      "cell_type": "code",
      "metadata": {
        "id": "qZWNCbYw-2F_",
        "colab_type": "code",
        "colab": {
          "base_uri": "https://localhost:8080/",
          "height": 68
        },
        "outputId": "ad6f8ebe-86bc-4fa3-8832-a46456f5a6f1"
      },
      "source": [
        "#Write a Python program to find All Numbers which are Odd and Palindromes Between a Range of Numbers without using Recursion. The numbers obtained should be printed in a comma-separated sequence\n",
        "\n",
        "print([p for p in range(int(input(\"Enter lower range: \")),int(input(\"enter upper range: \"))) if p%2==1 and str(p) == str(p)[::-1]])\n"
      ],
      "execution_count": null,
      "outputs": [
        {
          "output_type": "stream",
          "text": [
            "Enter lower range: 100\n",
            "enter upper range: 500\n",
            "[101, 111, 121, 131, 141, 151, 161, 171, 181, 191, 303, 313, 323, 333, 343, 353, 363, 373, 383, 393]\n"
          ],
          "name": "stdout"
        }
      ]
    },
    {
      "cell_type": "code",
      "metadata": {
        "id": "kkDZLdOjDajg",
        "colab_type": "code",
        "colab": {
          "base_uri": "https://localhost:8080/",
          "height": 51
        },
        "outputId": "5fb92785-5f20-45f9-ed1a-aa77ffda257b"
      },
      "source": [
        "#Write a Python Program to read a number n and print the series “5+10+…..+n = sum upto n ” . The numbers should be printed  as they are  shown in the quotes with sum of numbers upto n \n",
        "\n",
        "n = int(input(\"Enter value n: \"))\n",
        "li =[]\n",
        "for i in range(1,n+1):\n",
        "  print(str(i*5), end = \"\")\n",
        "  li.append(i*5)\n",
        "  if(i != n):\n",
        "    print(\"+\", end=\"\")\n",
        "  else:\n",
        "    print(\"=\",end=\"\")\n",
        "print(sum(li))"
      ],
      "execution_count": null,
      "outputs": [
        {
          "output_type": "stream",
          "text": [
            "Enter value n: 6\n",
            "5+10+15+20+25+30=105\n"
          ],
          "name": "stdout"
        }
      ]
    }
  ]
}