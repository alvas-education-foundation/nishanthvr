{
  "nbformat": 4,
  "nbformat_minor": 0,
  "metadata": {
    "colab": {
      "name": "Day 4 Session 2 Examples.ipynb",
      "provenance": [],
      "include_colab_link": true
    },
    "kernelspec": {
      "name": "python3",
      "display_name": "Python 3"
    }
  },
  "cells": [
    {
      "cell_type": "markdown",
      "metadata": {
        "id": "view-in-github",
        "colab_type": "text"
      },
      "source": [
        "<a href=\"https://colab.research.google.com/github/alvas-education-foundation/nishanthvr/blob/master/Day_4_Session_2_Examples.ipynb\" target=\"_parent\"><img src=\"https://colab.research.google.com/assets/colab-badge.svg\" alt=\"Open In Colab\"/></a>"
      ]
    },
    {
      "cell_type": "markdown",
      "metadata": {
        "id": "hYN7M7kMOsFR",
        "colab_type": "text"
      },
      "source": [
        "#Example #1"
      ]
    },
    {
      "cell_type": "code",
      "metadata": {
        "id": "gUukqOddOwtE",
        "colab_type": "code",
        "colab": {
          "base_uri": "https://localhost:8080/",
          "height": 34
        },
        "outputId": "a0ce27d3-47ce-4f8e-9804-bb3c7638c943"
      },
      "source": [
        "x=[1, 2, 3, 4, 5, 6]\n",
        "print([(element * 2) for element in x])\n"
      ],
      "execution_count": null,
      "outputs": [
        {
          "output_type": "stream",
          "text": [
            "[2, 4, 6, 8, 10, 12]\n"
          ],
          "name": "stdout"
        }
      ]
    },
    {
      "cell_type": "markdown",
      "metadata": {
        "id": "VJTtt7NCO7mA",
        "colab_type": "text"
      },
      "source": [
        "#Example #2\n"
      ]
    },
    {
      "cell_type": "code",
      "metadata": {
        "id": "I0WjKxqHPFtq",
        "colab_type": "code",
        "colab": {
          "base_uri": "https://localhost:8080/",
          "height": 34
        },
        "outputId": "89be31fe-e98e-4514-c298-5127cc9f3b62"
      },
      "source": [
        "\n",
        "x=[1, 2, 3, 4, 5, 6, 7, 8, 9, 10]\n",
        "[(element * 2 if element % 2 == 0 else element) for element in x]\n"
      ],
      "execution_count": null,
      "outputs": [
        {
          "output_type": "execute_result",
          "data": {
            "text/plain": [
              "[1, 4, 3, 8, 5, 12, 7, 16, 9, 20]"
            ]
          },
          "metadata": {
            "tags": []
          },
          "execution_count": 2
        }
      ]
    },
    {
      "cell_type": "markdown",
      "metadata": {
        "id": "Y11vBHWxPKOK",
        "colab_type": "text"
      },
      "source": [
        "#Example #3 filtering only even numbers"
      ]
    },
    {
      "cell_type": "code",
      "metadata": {
        "id": "A3c9U3nzPOOJ",
        "colab_type": "code",
        "colab": {
          "base_uri": "https://localhost:8080/",
          "height": 34
        },
        "outputId": "84259644-3a3a-4235-8dca-292376505565"
      },
      "source": [
        "x=[1, 2, 3, 4, 5, 6, 7, 8, 9, 10]\n",
        "[element * 2 for element in x if element % 2 == 0]\n"
      ],
      "execution_count": null,
      "outputs": [
        {
          "output_type": "execute_result",
          "data": {
            "text/plain": [
              "[4, 8, 12, 16, 20]"
            ]
          },
          "metadata": {
            "tags": []
          },
          "execution_count": 3
        }
      ]
    },
    {
      "cell_type": "markdown",
      "metadata": {
        "id": "Zj_two_1PvZR",
        "colab_type": "text"
      },
      "source": [
        "#How to Choose Names"
      ]
    },
    {
      "cell_type": "code",
      "metadata": {
        "id": "yqf5y72YQNrJ",
        "colab_type": "code",
        "colab": {
          "base_uri": "https://localhost:8080/",
          "height": 52
        },
        "outputId": "5d82707b-c5b5-4db7-ed68-80222868acf8"
      },
      "source": [
        "name = 'John Smith'\n",
        "first_name, last_name = name.split()\n",
        "print(last_name, first_name, sep=', ')\n",
        "'Smith, John'\n"
      ],
      "execution_count": null,
      "outputs": [
        {
          "output_type": "stream",
          "text": [
            "Smith, John\n"
          ],
          "name": "stdout"
        },
        {
          "output_type": "execute_result",
          "data": {
            "application/vnd.google.colaboratory.intrinsic+json": {
              "type": "string"
            },
            "text/plain": [
              "'Smith, John'"
            ]
          },
          "metadata": {
            "tags": []
          },
          "execution_count": 5
        }
      ]
    },
    {
      "cell_type": "markdown",
      "metadata": {
        "id": "yZbIHS6ZQee-",
        "colab_type": "text"
      },
      "source": [
        "#Code Layout"
      ]
    },
    {
      "cell_type": "code",
      "metadata": {
        "id": "Vxrw50k4Qi6_",
        "colab_type": "code",
        "colab": {}
      },
      "source": [
        "class MyFirstClass:\n",
        "    pass\n",
        "\n",
        "\n",
        "class MySecondClass:\n",
        "    pass\n",
        "\n",
        "\n",
        "def top_level_function():\n",
        "    return None\n"
      ],
      "execution_count": null,
      "outputs": []
    },
    {
      "cell_type": "code",
      "metadata": {
        "id": "4sD2w1fWQkru",
        "colab_type": "code",
        "colab": {}
      },
      "source": [
        "class MyClass:\n",
        "    def first_method(self):\n",
        "        return None\n",
        "\n",
        "    def second_method(self):\n",
        "        return None\n"
      ],
      "execution_count": null,
      "outputs": []
    },
    {
      "cell_type": "code",
      "metadata": {
        "id": "AnIX9SJNWnUz",
        "colab_type": "code",
        "colab": {}
      },
      "source": [
        "def calculate_variance(number_list):\n",
        "   sum_list = 0\n",
        "   for number in number_list:\n",
        "        sum_list = sum_list + number\n",
        "   mean = sum_list / len(number_list)\n",
        "   sum_squares = 0\n",
        "   for number in number_list:\n",
        "     sum_squares = sum_squares + number**2\n",
        "     mean_squares = sum_squares / len(number_list)\n",
        "  return mean_squares - mean**2"
      ],
      "execution_count": null,
      "outputs": []
    }
  ]
}