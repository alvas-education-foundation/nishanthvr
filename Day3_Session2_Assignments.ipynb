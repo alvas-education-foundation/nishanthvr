{
  "nbformat": 4,
  "nbformat_minor": 0,
  "metadata": {
    "colab": {
      "name": "Day3_Session2_Assignments.ipynb",
      "provenance": [],
      "collapsed_sections": [],
      "include_colab_link": true
    },
    "kernelspec": {
      "name": "python3",
      "display_name": "Python 3"
    }
  },
  "cells": [
    {
      "cell_type": "markdown",
      "metadata": {
        "id": "view-in-github",
        "colab_type": "text"
      },
      "source": [
        "<a href=\"https://colab.research.google.com/github/alvas-education-foundation/nishanthvr/blob/master/Day3_Session2_Assignments.ipynb\" target=\"_parent\"><img src=\"https://colab.research.google.com/assets/colab-badge.svg\" alt=\"Open In Colab\"/></a>"
      ]
    },
    {
      "cell_type": "code",
      "metadata": {
        "id": "Cx8rvW9tHvu9",
        "colab_type": "code",
        "colab": {
          "base_uri": "https://localhost:8080/",
          "height": 51
        },
        "outputId": "fdae2d01-2306-420d-ab53-588f9bbecdeb"
      },
      "source": [
        "#Write a Python Program to Print Multiplication Table of a  number which got through keyboard.\n",
        "n = int(input(\"Enter value n: \"))\n",
        "print([str(n)+\" x \"+str(i)+\" = \" + str(n*i) for i in range(1,11)])"
      ],
      "execution_count": null,
      "outputs": [
        {
          "output_type": "stream",
          "text": [
            "Enter value n: 6\n",
            "['6 x 1 = 6', '6 x 2 = 12', '6 x 3 = 18', '6 x 4 = 24', '6 x 5 = 30', '6 x 6 = 36', '6 x 7 = 42', '6 x 8 = 48', '6 x 9 = 54', '6 x 10 = 60']\n"
          ],
          "name": "stdout"
        }
      ]
    },
    {
      "cell_type": "code",
      "metadata": {
        "id": "f7nCNxxPOUnF",
        "colab_type": "code",
        "colab": {
          "base_uri": "https://localhost:8080/",
          "height": 34
        },
        "outputId": "7bb4eb5d-ddb8-4b5b-fe13-5ed8afaba990"
      },
      "source": [
        "#Write a  Python Program to find the Armstrong Numbers between 1 and 2000 ( i.e 153 is amtrong numbers as 1**3+5**3+3**3=153 )\n",
        "\n",
        "li =[]\n",
        "for i in range(1,2000):\n",
        "  l = len(str(i))\n",
        "  sum=0\n",
        "  temp=i\n",
        "  while temp>0:\n",
        "    a = temp%10\n",
        "    sum += a ** l\n",
        "    temp //=10\n",
        "  if i == sum:\n",
        "    li.append(i)\n",
        "print(li)"
      ],
      "execution_count": null,
      "outputs": [
        {
          "output_type": "stream",
          "text": [
            "[1, 2, 3, 4, 5, 6, 7, 8, 9, 153, 370, 371, 407, 1634]\n"
          ],
          "name": "stdout"
        }
      ]
    },
    {
      "cell_type": "code",
      "metadata": {
        "id": "wgcYkFJRRueL",
        "colab_type": "code",
        "colab": {
          "base_uri": "https://localhost:8080/",
          "height": 238
        },
        "outputId": "9b25df97-a249-408a-d814-1fe9c2e4b3be"
      },
      "source": [
        "#Write a python program to get the list of tuples (rollno, name) for n students by getting rollno and name through keyboard. Sort and print  them as rollno wise and name wise both ascending and descending as well as alphabetical and dealphabetical orders\n",
        "\n",
        "li = []\n",
        "n = int(input(\"Enter value n: \"))\n",
        "for i in range(n):\n",
        "  rollno = input(\"Enter roll.no: \")\n",
        "  name = input(\"Enter name: \")\n",
        "  li.append((rollno,name))\n",
        "print(\"Ascending order (roll.no): \"+str(sorted(li)))\n",
        "li.sort(reverse=True)\n",
        "print(\"Descending order (roll.no): \"+str(li))\n",
        "li.sort(key = lambda x:x[1])\n",
        "print(\"Alphabetical order: \"+ str(li))\n",
        "li.sort(key = lambda x: x[1],reverse=True)\n",
        "print(\"Dealphabetical order: \"+ str(li))"
      ],
      "execution_count": null,
      "outputs": [
        {
          "output_type": "stream",
          "text": [
            "Enter value n: 4\n",
            "Enter roll.no: 1\n",
            "Enter name: ccc\n",
            "Enter roll.no: 4\n",
            "Enter name: ddd\n",
            "Enter roll.no: 2\n",
            "Enter name: aaa\n",
            "Enter roll.no: 3\n",
            "Enter name: bbb\n",
            "Ascending order (roll.no): [('1', 'ccc'), ('2', 'aaa'), ('3', 'bbb'), ('4', 'ddd')]\n",
            "Descending order (roll.no): [('4', 'ddd'), ('3', 'bbb'), ('2', 'aaa'), ('1', 'ccc')]\n",
            "Alphabetical order: [('2', 'aaa'), ('3', 'bbb'), ('1', 'ccc'), ('4', 'ddd')]\n",
            "Dealphabetical order: [('4', 'ddd'), ('1', 'ccc'), ('3', 'bbb'), ('2', 'aaa')]\n"
          ],
          "name": "stdout"
        }
      ]
    },
    {
      "cell_type": "code",
      "metadata": {
        "id": "XxwyXstxXXBp",
        "colab_type": "code",
        "colab": {
          "base_uri": "https://localhost:8080/",
          "height": 68
        },
        "outputId": "e3bc49a8-133a-4fbc-dbef-2b85aa0b3064"
      },
      "source": [
        "#Python Program to Detect if Two Strings are Anagrams ( They are  the two strings which have same length and same words which may be different in their order)\n",
        "\n",
        "s1 = input(\"Enter first string: \")\n",
        "s2 = input(\"Enter second string: \")\n",
        "\n",
        "if(sorted(s1) == sorted(s2)):\n",
        "  print(\"Anagrams\")\n",
        "else:\n",
        "  print(\"Not Anagrams\")\n"
      ],
      "execution_count": null,
      "outputs": [
        {
          "output_type": "stream",
          "text": [
            "Enter first string: adcb weq\n",
            "Enter second string: abcd qwe\n",
            "Anagrams\n"
          ],
          "name": "stdout"
        }
      ]
    }
  ]
}