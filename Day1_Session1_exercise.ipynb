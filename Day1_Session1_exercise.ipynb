{
  "nbformat": 4,
  "nbformat_minor": 0,
  "metadata": {
    "colab": {
      "name": "Day1_Session1_Assignments.ipynb",
      "provenance": [],
      "collapsed_sections": [],
      "include_colab_link": true
    },
    "kernelspec": {
      "name": "python3",
      "display_name": "Python 3"
    }
  },
  "cells": [
    {
      "cell_type": "markdown",
      "metadata": {
        "id": "view-in-github",
        "colab_type": "text"
      },
      "source": [
        "<a href=\"https://colab.research.google.com/github/alvas-education-foundation/nishanthvr/blob/master/Day1_Session1_exercise.ipynb\" target=\"_parent\"><img src=\"https://colab.research.google.com/assets/colab-badge.svg\" alt=\"Open In Colab\"/></a>"
      ]
    },
    {
      "cell_type": "code",
      "metadata": {
        "id": "77KcjB0pGNgg",
        "colab_type": "code",
        "colab": {
          "base_uri": "https://localhost:8080/",
          "height": 85
        },
        "outputId": "5b533d8f-0555-43d8-c099-f8f7f9a5b5e2"
      },
      "source": [
        "#python code to find the compound interest for the given p,n,r  \n",
        "\n",
        "p = float(input(\"Enter the principal amount: \"))\n",
        "n = float(input(\"Enter the time period: \"))\n",
        "r = float(input(\"Enter the rate of interest: \"))\n",
        "CI = p*(1+n*r/100)**n\n",
        "print(CI) "
      ],
      "execution_count": null,
      "outputs": [
        {
          "output_type": "stream",
          "text": [
            "Enter the principal amount: 1000\n",
            "Enter the time period: 4\n",
            "Enter the rate of interest: 12\n",
            "4797.8521599999995\n"
          ],
          "name": "stdout"
        }
      ]
    },
    {
      "cell_type": "code",
      "metadata": {
        "id": "STknRgjmK4J9",
        "colab_type": "code",
        "colab": {
          "base_uri": "https://localhost:8080/",
          "height": 51
        },
        "outputId": "09e997e2-0f3e-4fcf-e2b5-05c5964653d6"
      },
      "source": [
        "#python code to convert centigrade to farenheit \n",
        "\n",
        "c = float(input(\"Enter the temperature in centigrade: \"))\n",
        "f = 9/5*c + 32\n",
        "print(f)"
      ],
      "execution_count": null,
      "outputs": [
        {
          "output_type": "stream",
          "text": [
            "Enter the temperature in centigrade: 38\n",
            "100.4\n"
          ],
          "name": "stdout"
        }
      ]
    },
    {
      "cell_type": "code",
      "metadata": {
        "id": "IRE89Zl2LkT4",
        "colab_type": "code",
        "colab": {
          "base_uri": "https://localhost:8080/",
          "height": 68
        },
        "outputId": "983f6100-2e32-4cfd-b3b7-a842c4874521"
      },
      "source": [
        "#python code to find greater between 2 numbers\n",
        "\n",
        "a = float(input(\"Enter the value a: \"))\n",
        "b = float(input(\"Enter the value b: \"))\n",
        "if(a>b):\n",
        "  print(\"a is greater than b\")\n",
        "elif (b>a):\n",
        "  print(\"b is greater than a\")\n",
        "else:\n",
        "  print(\"a is equal to b\")\n"
      ],
      "execution_count": null,
      "outputs": [
        {
          "output_type": "stream",
          "text": [
            "Enter the value a: 5\n",
            "Enter the value b: 4.9\n",
            "a is greater than b\n"
          ],
          "name": "stdout"
        }
      ]
    },
    {
      "cell_type": "code",
      "metadata": {
        "id": "HBOc6FkwOtun",
        "colab_type": "code",
        "colab": {
          "base_uri": "https://localhost:8080/",
          "height": 85
        },
        "outputId": "e4866dad-2e9d-4009-db0f-9b1be82eef83"
      },
      "source": [
        "#python code to find surface areas of cylinder and cone using function\n",
        "\n",
        "import math\n",
        "def s_area_cy(r,h):\n",
        "  return (2*math.pi*r*r*h)\n",
        "def s_area_co(r,h):\n",
        "  return (1/3*math.pi*r*r*h)\n",
        "r = float(input(\"Enter the radius value: \"))\n",
        "h = float(input(\"Enter the height value: \"))\n",
        "print(s_area_cy(r,h))\n",
        "print(s_area_co(r,h))\n"
      ],
      "execution_count": null,
      "outputs": [
        {
          "output_type": "stream",
          "text": [
            "Enter the radius value: 4\n",
            "Enter the height value: 5\n",
            "502.6548245743669\n",
            "83.7758040957278\n"
          ],
          "name": "stdout"
        }
      ]
    },
    {
      "cell_type": "code",
      "metadata": {
        "id": "WVsLaRT_SyF7",
        "colab_type": "code",
        "colab": {
          "base_uri": "https://localhost:8080/",
          "height": 102
        },
        "outputId": "1f04660d-4d1c-4f9a-fd69-3bd730812dea"
      },
      "source": [
        "#python code find the greatest of four numbers ( using ‘and’ operator) using function.\n",
        "\n",
        "def greatest(a,b,c,d):\n",
        "  if (a>=b and a>=c and a>=d):\n",
        "    print (\"a is greatest\")\n",
        "  elif (b>=a and b>=c and b>=d):\n",
        "    print (\"b is greatest\")\n",
        "  elif (c>=a and c>=b and c>=d):\n",
        "    print (\"c is greatest\")\n",
        "  else:\n",
        "    print (\"d is greatest\")\n",
        "\n",
        "a = float(input(\"Enter the value a: \"))\n",
        "b = float(input(\"Enter the value b: \"))\n",
        "c = float(input(\"Enter the value c: \"))\n",
        "d = float(input(\"Enter the value d: \"))\n",
        "greatest(a,b,c,d)"
      ],
      "execution_count": null,
      "outputs": [
        {
          "output_type": "stream",
          "text": [
            "Enter the value a: 6\n",
            "Enter the value b: 3\n",
            "Enter the value c: 7\n",
            "Enter the value d: 2\n",
            "c is greatest\n"
          ],
          "name": "stdout"
        }
      ]
    },
    {
      "cell_type": "code",
      "metadata": {
        "id": "Y1EB2pYm7Bcd",
        "colab_type": "code",
        "colab": {
          "base_uri": "https://localhost:8080/",
          "height": 1000
        },
        "outputId": "11ef60d6-a223-4d79-b434-6aeebf93edf3"
      },
      "source": [
        "#python code to perform the operations ( ODDorEven, Factorial, ODDNoUptoN, PrimeUptoN ) using functions with menu choice\n",
        "\n",
        "def oddoreven(N):\n",
        "    if N%2 == 0:\n",
        "      return \"even\"\n",
        "    else:\n",
        "      return \"odd\"\n",
        "def fact(N):\n",
        "    f = 1\n",
        "    for i in range (1,N+1):\n",
        "      f = f*i\n",
        "    return (f)\n",
        "def oddnums(N):\n",
        "    return [i for i in range(1,N+1,2)]\n",
        "def primenums(N):\n",
        "    li = []\n",
        "    if N>1:\n",
        "      li.append(2)\n",
        "    for i in range (1,N+1):\n",
        "      if i>1:\n",
        "        for j in range (2,i//2+2):\n",
        "          if(i%j == 0):\n",
        "            break\n",
        "          else:\n",
        "            if j == i//2+1:\n",
        "              li.append(i)\n",
        "    return li\n",
        "\n",
        "loop = 1\n",
        "while loop == 1:\n",
        "    # Print what options you have\n",
        "\n",
        "    print (\"your options are:\")\n",
        "    print (\" \")\n",
        "    print(\"1) Odd or Even\")\n",
        "    print(\"2) Factorial\")\n",
        "    print(\"3) Odd numbers upto N\")\n",
        "    print(\"4) Prime numbers upto N\")\n",
        "    print(\"5) Quit \")\n",
        "    print(\" \")\n",
        "    try:\n",
        "      choice = int(input(\"Choose your option: \"))\n",
        "    except:\n",
        "        print('please enter a valid number for option')\n",
        "    print(\" \")\n",
        "    print(\" \")\n",
        "    if choice == 1:\n",
        "        N = int(input(\"Enter the number: \"))\n",
        "        print(\"The answer is \",oddoreven(N))\n",
        "\n",
        "    elif choice == 2:\n",
        "        N = int(input(\"Enter the number: \"))\n",
        "        print(\"The answer is \",fact(N))\n",
        "  \n",
        "    elif choice == 3:\n",
        "        N = int(input(\"Enter the number: \"))\n",
        "        print(\"The answer is \",oddnums(N))\n",
        "\n",
        "    elif choice == 4:\n",
        "        N = int(input(\"Enter the number: \"))\n",
        "        print(\"The answer is \",primenums(N))\n",
        "        \n",
        "    elif choice == 5:\n",
        "        loop = 0\n",
        "     \n",
        "    else:\n",
        "        print(\"please choice a valid option from 1 to 5\")\n",
        "        choice=0\n",
        "print (\"Arigato\")\n"
      ],
      "execution_count": null,
      "outputs": [
        {
          "output_type": "stream",
          "text": [
            "your options are:\n",
            " \n",
            "1) Odd or Even\n",
            "2) Factorial\n",
            "3) Odd numbers upto N\n",
            "4) Prime numbers upto N\n",
            "5) Quit \n",
            " \n",
            "Choose your option: 1\n",
            " \n",
            " \n",
            "Enter the number: 5\n",
            "The answer is  odd\n",
            "your options are:\n",
            " \n",
            "1) Odd or Even\n",
            "2) Factorial\n",
            "3) Odd numbers upto N\n",
            "4) Prime numbers upto N\n",
            "5) Quit \n",
            " \n",
            "Choose your option: 2\n",
            " \n",
            " \n",
            "Enter the number: 6\n",
            "The answer is  720\n",
            "your options are:\n",
            " \n",
            "1) Odd or Even\n",
            "2) Factorial\n",
            "3) Odd numbers upto N\n",
            "4) Prime numbers upto N\n",
            "5) Quit \n",
            " \n",
            "Choose your option: 3\n",
            " \n",
            " \n",
            "Enter the number: 22\n",
            "The answer is  [1, 3, 5, 7, 9, 11, 13, 15, 17, 19, 21]\n",
            "your options are:\n",
            " \n",
            "1) Odd or Even\n",
            "2) Factorial\n",
            "3) Odd numbers upto N\n",
            "4) Prime numbers upto N\n",
            "5) Quit \n",
            " \n",
            "Choose your option: 4\n",
            " \n",
            " \n",
            "Enter the number: 30\n",
            "The answer is  [2, 3, 5, 7, 11, 13, 17, 19, 23, 29]\n",
            "your options are:\n",
            " \n",
            "1) Odd or Even\n",
            "2) Factorial\n",
            "3) Odd numbers upto N\n",
            "4) Prime numbers upto N\n",
            "5) Quit \n",
            " \n",
            "Choose your option: 5\n",
            " \n",
            " \n",
            "Arigato\n"
          ],
          "name": "stdout"
        }
      ]
    }
  ]
}