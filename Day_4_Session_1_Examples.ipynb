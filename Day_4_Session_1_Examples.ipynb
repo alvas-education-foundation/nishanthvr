{
  "nbformat": 4,
  "nbformat_minor": 0,
  "metadata": {
    "colab": {
      "name": "Day 4 Session 1 Examples.ipynb",
      "provenance": [],
      "collapsed_sections": [],
      "include_colab_link": true
    },
    "kernelspec": {
      "name": "python3",
      "display_name": "Python 3"
    }
  },
  "cells": [
    {
      "cell_type": "markdown",
      "metadata": {
        "id": "view-in-github",
        "colab_type": "text"
      },
      "source": [
        "<a href=\"https://colab.research.google.com/github/alvas-education-foundation/nishanthvr/blob/master/Day_4_Session_1_Examples.ipynb\" target=\"_parent\"><img src=\"https://colab.research.google.com/assets/colab-badge.svg\" alt=\"Open In Colab\"/></a>"
      ]
    },
    {
      "cell_type": "markdown",
      "metadata": {
        "id": "NK-3KtIHJx1x",
        "colab_type": "text"
      },
      "source": [
        "#Writing Pythonic code"
      ]
    },
    {
      "cell_type": "code",
      "metadata": {
        "id": "wbgmNkfhJ-iE",
        "colab_type": "code",
        "colab": {
          "base_uri": "https://localhost:8080/",
          "height": 35
        },
        "outputId": "dec2c0b0-700b-4a92-9265-1ad091db42e7"
      },
      "source": [
        "result_list = ['True', 'False', 'File not found']\n",
        "result_string = ''\n",
        "for result in result_list:\n",
        "  result_string += result\n",
        "result_string\n"
      ],
      "execution_count": null,
      "outputs": [
        {
          "output_type": "execute_result",
          "data": {
            "application/vnd.google.colaboratory.intrinsic+json": {
              "type": "string"
            },
            "text/plain": [
              "'TrueFalseFile not found'"
            ]
          },
          "metadata": {
            "tags": []
          },
          "execution_count": 4
        }
      ]
    },
    {
      "cell_type": "markdown",
      "metadata": {
        "id": "dhODZZU4KMs6",
        "colab_type": "text"
      },
      "source": [
        "#The following code is idiomatic\n"
      ]
    },
    {
      "cell_type": "code",
      "metadata": {
        "id": "qyWjOX1iKUIC",
        "colab_type": "code",
        "colab": {
          "base_uri": "https://localhost:8080/",
          "height": 35
        },
        "outputId": "fe078f6e-c347-4a08-db4b-64d00f5343d9"
      },
      "source": [
        "result_list = ['True', 'False', 'File not found']\n",
        "result_string = ' '.join(result_list)\n",
        "result_string"
      ],
      "execution_count": null,
      "outputs": [
        {
          "output_type": "execute_result",
          "data": {
            "application/vnd.google.colaboratory.intrinsic+json": {
              "type": "string"
            },
            "text/plain": [
              "'True False File not found'"
            ]
          },
          "metadata": {
            "tags": []
          },
          "execution_count": 3
        }
      ]
    },
    {
      "cell_type": "markdown",
      "metadata": {
        "id": "B0EinhZTKYoK",
        "colab_type": "text"
      },
      "source": [
        "#Chain string functions"
      ]
    },
    {
      "cell_type": "code",
      "metadata": {
        "id": "OeEnq-fRKcb8",
        "colab_type": "code",
        "colab": {
          "base_uri": "https://localhost:8080/",
          "height": 35
        },
        "outputId": "baca8ed9-942e-4c94-efad-f696a9c1d93d"
      },
      "source": [
        "book_info = ' The Three Musketeers: Alexandre Dumas'\n",
        "formatted_book_info = book_info.strip()\n",
        "formatted_book_info = formatted_book_info.upper()\n",
        "formatted_book_info = formatted_book_info.replace(':', ' by')\n",
        "formatted_book_info\n"
      ],
      "execution_count": null,
      "outputs": [
        {
          "output_type": "execute_result",
          "data": {
            "application/vnd.google.colaboratory.intrinsic+json": {
              "type": "string"
            },
            "text/plain": [
              "'THE THREE MUSKETEERS by ALEXANDRE DUMAS'"
            ]
          },
          "metadata": {
            "tags": []
          },
          "execution_count": 5
        }
      ]
    },
    {
      "cell_type": "markdown",
      "metadata": {
        "id": "D0lmxU-SKkoE",
        "colab_type": "text"
      },
      "source": [
        "#THE THREE MUSKETEERS by ALEXANDRE DUMAS\n"
      ]
    },
    {
      "cell_type": "code",
      "metadata": {
        "id": "pKjSRNXtKpgN",
        "colab_type": "code",
        "colab": {
          "base_uri": "https://localhost:8080/",
          "height": 35
        },
        "outputId": "569d1be3-8fac-4ef5-c273-755d505ee8d8"
      },
      "source": [
        "book_info = ' The Three Musketeers: Alexandre Dumas'\n",
        "formatted_book_info = book_info.strip().upper().replace(':', ' by')\n",
        "formatted_book_info"
      ],
      "execution_count": null,
      "outputs": [
        {
          "output_type": "execute_result",
          "data": {
            "application/vnd.google.colaboratory.intrinsic+json": {
              "type": "string"
            },
            "text/plain": [
              "'THE THREE MUSKETEERS by ALEXANDRE DUMAS'"
            ]
          },
          "metadata": {
            "tags": []
          },
          "execution_count": 6
        }
      ]
    },
    {
      "cell_type": "markdown",
      "metadata": {
        "id": "RDF06nwHKwUj",
        "colab_type": "text"
      },
      "source": [
        "#Removing Duplicates from a List"
      ]
    },
    {
      "cell_type": "code",
      "metadata": {
        "id": "KHpblAs7KyKL",
        "colab_type": "code",
        "colab": {
          "base_uri": "https://localhost:8080/",
          "height": 35
        },
        "outputId": "416f36e7-910e-43a6-c63b-6c5855ea62da"
      },
      "source": [
        "ints_list = [1, 2, 3, 4, 3, 2]\n",
        "temp = []\n",
        "for x in ints_list:\n",
        "    if x not in temp:\n",
        "        temp.append(x)\n",
        "ints_list = temp\n",
        "print(f'Updated List after removing duplicates = {temp}')"
      ],
      "execution_count": null,
      "outputs": [
        {
          "output_type": "stream",
          "text": [
            "Updated List after removing duplicates = [1, 2, 3, 4]\n"
          ],
          "name": "stdout"
        }
      ]
    },
    {
      "cell_type": "markdown",
      "metadata": {
        "id": "INSCwPzgK25J",
        "colab_type": "text"
      },
      "source": [
        "#The following code is idiomatic using set()\n"
      ]
    },
    {
      "cell_type": "code",
      "metadata": {
        "id": "VB-B9e1pK6sa",
        "colab_type": "code",
        "colab": {
          "base_uri": "https://localhost:8080/",
          "height": 35
        },
        "outputId": "8991a4e2-2c98-420e-c586-2b4feefa568d"
      },
      "source": [
        "ints_list = [1, 2, 3, 4, 3, 2]\n",
        "ints_list1 = list(set(ints_list))\n",
        "print(ints_list1)  # [1, 2, 3, 4]"
      ],
      "execution_count": null,
      "outputs": [
        {
          "output_type": "stream",
          "text": [
            "[1, 2, 3, 4]\n"
          ],
          "name": "stdout"
        }
      ]
    },
    {
      "cell_type": "markdown",
      "metadata": {
        "id": "DP5yNdx1LCTp",
        "colab_type": "text"
      },
      "source": [
        "#some of the important functions in Python"
      ]
    },
    {
      "cell_type": "markdown",
      "metadata": {
        "id": "pHZuDkNjLGrr",
        "colab_type": "text"
      },
      "source": [
        "#zip() in Python"
      ]
    },
    {
      "cell_type": "code",
      "metadata": {
        "id": "ji1FrsrBLJgl",
        "colab_type": "code",
        "colab": {
          "base_uri": "https://localhost:8080/",
          "height": 35
        },
        "outputId": "3219fbff-69d5-4ee5-fce2-8a3e1d788270"
      },
      "source": [
        "name = [ \"Manjeet\", \"Nikhil\", \"Shambhavi\", \"Astha\" ] \n",
        "roll_no = [ 4, 1, 3, 2 ] \n",
        "marks = [ 40, 50, 60, 70 ] \n",
        "  \n",
        "# using zip() to map values \n",
        "mapped = zip(name, roll_no, marks) \n",
        "  \n",
        "# converting values to print as set \n",
        "mapped = set(mapped) \n",
        "  \n",
        "# printing resultant values  \n",
        "print (\"The zipped result is : \",end=\"\") \n",
        "print (mapped) "
      ],
      "execution_count": null,
      "outputs": [
        {
          "output_type": "stream",
          "text": [
            "The zipped result is : {('Nikhil', 1, 50), ('Manjeet', 4, 40), ('Shambhavi', 3, 60), ('Astha', 2, 70)}\n"
          ],
          "name": "stdout"
        }
      ]
    },
    {
      "cell_type": "markdown",
      "metadata": {
        "id": "Jf3wWJxxLQ3K",
        "colab_type": "text"
      },
      "source": [
        "#How to unzip?"
      ]
    },
    {
      "cell_type": "code",
      "metadata": {
        "id": "QiGEtRUaLUYD",
        "colab_type": "code",
        "colab": {
          "base_uri": "https://localhost:8080/",
          "height": 35
        },
        "outputId": "1ab896e4-9aa4-4f7b-bd58-9ba577a9b787"
      },
      "source": [
        "name,rollno,marks=zip(*mapped)\n",
        "print(name,rollno,marks)\n"
      ],
      "execution_count": null,
      "outputs": [
        {
          "output_type": "stream",
          "text": [
            "('Nikhil', 'Manjeet', 'Shambhavi', 'Astha') (1, 4, 3, 2) (50, 40, 60, 70)\n"
          ],
          "name": "stdout"
        }
      ]
    },
    {
      "cell_type": "markdown",
      "metadata": {
        "id": "gzFDepEvLZ1c",
        "colab_type": "text"
      },
      "source": [
        "#Map() function with lamda in Python"
      ]
    },
    {
      "cell_type": "code",
      "metadata": {
        "id": "aX2enq7oLesy",
        "colab_type": "code",
        "colab": {
          "base_uri": "https://localhost:8080/",
          "height": 53
        },
        "outputId": "6133b1ea-1b03-470c-bbca-6fa3f30d6263"
      },
      "source": [
        "def square(x):\n",
        "    return x*x\n",
        "numbers=[1, 2, 3, 4, 5]\n",
        "sqrList=map(square, numbers)\n",
        "print(list(sqrList))\n",
        "# use lamda function to have direct values\n",
        "sqrList1 = map(lambda x: x*x, [1, 2, 3, 4])\n",
        "print(list(sqrList1))\n"
      ],
      "execution_count": null,
      "outputs": [
        {
          "output_type": "stream",
          "text": [
            "[1, 4, 9, 16, 25]\n",
            "[1, 4, 9, 16]\n"
          ],
          "name": "stdout"
        }
      ]
    },
    {
      "cell_type": "markdown",
      "metadata": {
        "id": "RpZo1ClRLkZ2",
        "colab_type": "text"
      },
      "source": [
        "#Slicing operations in string"
      ]
    },
    {
      "cell_type": "code",
      "metadata": {
        "id": "eIimRKyMLoUz",
        "colab_type": "code",
        "colab": {
          "base_uri": "https://localhost:8080/",
          "height": 71
        },
        "outputId": "f86b2cc2-ec9b-497e-b530-22823268a911"
      },
      "source": [
        "def change(string):\n",
        "      return string[-1] + string[1:-1] + string[0]\n",
        "string=input(\"Enter string:\")\n",
        "print(\"Modified string:\",change(string))\n",
        "print('original string :',string)\n"
      ],
      "execution_count": null,
      "outputs": [
        {
          "output_type": "stream",
          "text": [
            "Enter string:Gagan\n",
            "Modified string: nagaG\n",
            "original string : Gagan\n"
          ],
          "name": "stdout"
        }
      ]
    },
    {
      "cell_type": "markdown",
      "metadata": {
        "id": "mzSXz-qtLuvZ",
        "colab_type": "text"
      },
      "source": [
        "#Removing one character from a string"
      ]
    },
    {
      "cell_type": "code",
      "metadata": {
        "id": "WCmGmWRxLyMt",
        "colab_type": "code",
        "colab": {
          "base_uri": "https://localhost:8080/",
          "height": 53
        },
        "outputId": "c7267d96-a6e7-4537-f1a2-0120700b0d93"
      },
      "source": [
        "def remove(string, n): \n",
        "      first = string[:n]   \n",
        "      last = string[n+1:]  \n",
        "      return first + last\n",
        "string=input(\"Enter the sring:\")\n",
        "n=int(input(\"Enter the index of the character to remove:\"))\n"
      ],
      "execution_count": null,
      "outputs": [
        {
          "output_type": "stream",
          "text": [
            "Enter the sring:Gaganm\n",
            "Enter the index of the character to remove:5\n"
          ],
          "name": "stdout"
        }
      ]
    },
    {
      "cell_type": "markdown",
      "metadata": {
        "id": "aw0yJg4eMLJg",
        "colab_type": "text"
      },
      "source": [
        "#Sorting in Python using function"
      ]
    },
    {
      "cell_type": "code",
      "metadata": {
        "id": "bqIYQvZnMRtD",
        "colab_type": "code",
        "colab": {
          "base_uri": "https://localhost:8080/",
          "height": 89
        },
        "outputId": "54426d72-2c75-4acb-8372-dc1ecf6e9099"
      },
      "source": [
        "def myFunc(e):\n",
        "  return len(e)\n",
        "#myfunc=lambda x : len(x)\n",
        "cars = ['Ford', 'Mitsubishi', 'BMW', 'VW']\n",
        "cars.sort(key=myFunc)\n",
        "print(cars)\n",
        "def myFunc(e):\n",
        "  return e[1]\n",
        "cars = [(1,'Ford'), (2,'Mitsubishi'), (3,'BMW'), (4,'VW')]\n",
        "cars.sort(key=myFunc)\n",
        "print(cars)\n",
        "cars.sort(key=myFunc,reverse=True)\n",
        "print(cars)\n",
        "cars.sort(key=myFunc,reverse=True)\n",
        "print(cars)\n"
      ],
      "execution_count": null,
      "outputs": [
        {
          "output_type": "stream",
          "text": [
            "['VW', 'BMW', 'Ford', 'Mitsubishi']\n",
            "[(3, 'BMW'), (1, 'Ford'), (2, 'Mitsubishi'), (4, 'VW')]\n",
            "[(4, 'VW'), (2, 'Mitsubishi'), (1, 'Ford'), (3, 'BMW')]\n",
            "[(4, 'VW'), (2, 'Mitsubishi'), (1, 'Ford'), (3, 'BMW')]\n"
          ],
          "name": "stdout"
        }
      ]
    },
    {
      "cell_type": "markdown",
      "metadata": {
        "id": "z7dxNvBOMZPy",
        "colab_type": "text"
      },
      "source": [
        "#itertools groupby"
      ]
    },
    {
      "cell_type": "code",
      "metadata": {
        "id": "cqQgVqH-McuC",
        "colab_type": "code",
        "colab": {
          "base_uri": "https://localhost:8080/",
          "height": 107
        },
        "outputId": "bde7df46-f069-4fa8-c79c-cd11b020a1ed"
      },
      "source": [
        "from itertools import groupby\n",
        "things = [(\"animal\", \"bear\"), (\"animal\", \"duck\"), \\\n",
        "          (\"plant\", \"cactus\"), (\"vehicle\", \"speed boat\"),\\\n",
        "          (\"vehicle\", \"school bus\")]\n",
        "for key, group in groupby(things, lambda x: x[0]):\n",
        "    for thing in group:\n",
        "      print (\"A %s is a %s.\"%(thing[1], key))\n",
        "         "
      ],
      "execution_count": null,
      "outputs": [
        {
          "output_type": "stream",
          "text": [
            "A bear is a animal.\n",
            "A duck is a animal.\n",
            "A cactus is a plant.\n",
            "A speed boat is a vehicle.\n",
            "A school bus is a vehicle.\n"
          ],
          "name": "stdout"
        }
      ]
    },
    {
      "cell_type": "markdown",
      "metadata": {
        "id": "aAaCPznnM3Ko",
        "colab_type": "text"
      },
      "source": [
        "#Combinations Of string \"SADIK\" OF SIZE 3."
      ]
    },
    {
      "cell_type": "code",
      "metadata": {
        "id": "KeAx1gbSM7mT",
        "colab_type": "code",
        "colab": {
          "base_uri": "https://localhost:8080/",
          "height": 35
        },
        "outputId": "900a3f70-b49f-42e2-d883-4e59024f086f"
      },
      "source": [
        "from itertools import combinations \n",
        "  \n",
        "letters =\"SADIK\"\n",
        "  \n",
        "# size of combination is set to 3 \n",
        "a = combinations(letters, 3)  \n",
        "y = [' '.join(i) for i in a]  \n",
        "print(y)"
      ],
      "execution_count": null,
      "outputs": [
        {
          "output_type": "stream",
          "text": [
            "['S A D', 'S A I', 'S A K', 'S D I', 'S D K', 'S I K', 'A D I', 'A D K', 'A I K', 'D I K']\n"
          ],
          "name": "stdout"
        }
      ]
    },
    {
      "cell_type": "markdown",
      "metadata": {
        "id": "z-V69f-vNAPv",
        "colab_type": "text"
      },
      "source": [
        "#Permutations Of string \"SADIK\" OF SIZE 3"
      ]
    },
    {
      "cell_type": "code",
      "metadata": {
        "id": "lQ0mMyaJND2o",
        "colab_type": "code",
        "colab": {
          "base_uri": "https://localhost:8080/",
          "height": 54
        },
        "outputId": "1f19ec1e-8158-4f4b-d086-6e114ede8418"
      },
      "source": [
        "from itertools import permutations \n",
        "  \n",
        "letters =\"SADIK\"\n",
        "  \n",
        "# size of permutaion is set to 3 \n",
        "a = permutations(letters, 3)  \n",
        "y = [' '.join(i) for i in a]  \n",
        "print(y)"
      ],
      "execution_count": null,
      "outputs": [
        {
          "output_type": "stream",
          "text": [
            "['S A D', 'S A I', 'S A K', 'S D A', 'S D I', 'S D K', 'S I A', 'S I D', 'S I K', 'S K A', 'S K D', 'S K I', 'A S D', 'A S I', 'A S K', 'A D S', 'A D I', 'A D K', 'A I S', 'A I D', 'A I K', 'A K S', 'A K D', 'A K I', 'D S A', 'D S I', 'D S K', 'D A S', 'D A I', 'D A K', 'D I S', 'D I A', 'D I K', 'D K S', 'D K A', 'D K I', 'I S A', 'I S D', 'I S K', 'I A S', 'I A D', 'I A K', 'I D S', 'I D A', 'I D K', 'I K S', 'I K A', 'I K D', 'K S A', 'K S D', 'K S I', 'K A S', 'K A D', 'K A I', 'K D S', 'K D A', 'K D I', 'K I S', 'K I A', 'K I D']\n"
          ],
          "name": "stdout"
        }
      ]
    },
    {
      "cell_type": "markdown",
      "metadata": {
        "id": "J6ToHo-nNH0y",
        "colab_type": "text"
      },
      "source": [
        "#Accumulate()"
      ]
    },
    {
      "cell_type": "code",
      "metadata": {
        "id": "-PTl5IfiNNAC",
        "colab_type": "code",
        "colab": {
          "base_uri": "https://localhost:8080/",
          "height": 102
        },
        "outputId": "b8803794-d976-4877-e61e-dbb394ab341f"
      },
      "source": [
        "# import the itertool module  \n",
        "# to work with it \n",
        "import itertools \n",
        "  \n",
        "# import operator to work  \n",
        "# with operator \n",
        "import operator \n",
        "  \n",
        "# creating a list GFG \n",
        "GFG = [1, 2, 3, 4, 5] \n",
        "  \n",
        "# using the itertools.accumulate()  \n",
        "result = itertools.accumulate(GFG,  \n",
        "                              operator.mul) \n",
        "  \n",
        "# printing each item from list \n",
        "for each in result: \n",
        "    print(each)"
      ],
      "execution_count": null,
      "outputs": [
        {
          "output_type": "stream",
          "text": [
            "1\n",
            "2\n",
            "6\n",
            "24\n",
            "120\n"
          ],
          "name": "stdout"
        }
      ]
    },
    {
      "cell_type": "markdown",
      "metadata": {
        "id": "JnOpB5SYNQ0n",
        "colab_type": "text"
      },
      "source": [
        "#Swaping by ^(Exclusive or)\n"
      ]
    },
    {
      "cell_type": "code",
      "metadata": {
        "id": "Zc7GhC5pNUMq",
        "colab_type": "code",
        "colab": {
          "base_uri": "https://localhost:8080/",
          "height": 51
        },
        "outputId": "e00e8497-6bcc-4bcf-cd81-5c81d3e980d4"
      },
      "source": [
        "a=5\n",
        "b=4\n",
        "a=a^b\n",
        "b=a^b\n",
        "a=a^b\n",
        "print(a)\n",
        "print(b)"
      ],
      "execution_count": null,
      "outputs": [
        {
          "output_type": "stream",
          "text": [
            "4\n",
            "5\n"
          ],
          "name": "stdout"
        }
      ]
    }
  ]
}